{
 "cells": [
  {
   "cell_type": "code",
   "execution_count": 4,
   "id": "95857368",
   "metadata": {},
   "outputs": [],
   "source": [
    "import pandas"
   ]
  },
  {
   "cell_type": "code",
   "execution_count": 5,
   "id": "fcd9f0ac",
   "metadata": {},
   "outputs": [],
   "source": [
    "df = pandas.read_csv('results.csv')"
   ]
  },
  {
   "cell_type": "code",
   "execution_count": 14,
   "id": "c5b357a6",
   "metadata": {},
   "outputs": [],
   "source": [
    "all_cats_text = df['category_tree'].tolist()"
   ]
  },
  {
   "cell_type": "code",
   "execution_count": 11,
   "id": "18704f36",
   "metadata": {},
   "outputs": [],
   "source": [
    "test = [len(x.split('>')) for x in all_cats]"
   ]
  },
  {
   "cell_type": "code",
   "execution_count": null,
   "id": "9f3b807f",
   "metadata": {},
   "outputs": [],
   "source": [
    "from slugify import slugify\n",
    "import mysql.connector\n",
    "conn = mysql.connector.connect(host='localhost',\n",
    "                                   database='findused_local',\n",
    "                                   user='root',\n",
    "                                   password='test12345')\n",
    "cursor = self.conn.cursor(buffered=True)\n",
    "conn.autocommit = False\n",
    "for cat in all_cats_text:\n",
    "    all_cats_list = [x.strip() for x in cat.split('>')[1:] if x]\n",
    "    indx_dict = {}\n",
    "    for kn, cat in enumerate(all_cats_list):\n",
    "        indx_dict[cat] = kn\n",
    "    cats = ['\"'+x.strip()+'\"' for x in all_cats_list if x]\n",
    "    sql_update_query = f'''SELECT * from findused_local.categories where category_name IN ({\",\".join(cats)}) AND type = \"{name}\";'''\n",
    "    self.cursor.execute(sql_update_query)\n",
    "    x = self.cursor.fetchall()\n",
    "\n",
    "    cats_dict = {}\n",
    "    for c in x:\n",
    "        c = list(c)\n",
    "        cats_dict[c[1]] = c[0]\n",
    "    catid_list = [str(x) for x in list(cats_dict.values())]\n",
    "    if len(cat.split('>'))==len(list(cats_dict.keys())):\n",
    "        catid_list = \",\".join(catid_list)\n",
    "    else:\n",
    "        cats_to_add = [c for c in all_cats_list if c not in list(cats_dict.keys())]\n",
    "        for i,clr in enumerate(cats_to_add):\n",
    "            ct_slug = slugify(clr)\n",
    "            parent_id = None\n",
    "            for k,ac in enumerate(all_cats_list):\n",
    "                if clr==ac:\n",
    "                    if k==0:\n",
    "                        break\n",
    "                    parent_id = cats_dict.get(all_cats_list[k-1])\n",
    "                    if not parent_id:\n",
    "                        parent_id = catid_list[-1]\n",
    "                    break\n",
    "            if not parent_id:\n",
    "                sql_update_query = f'''INSERT IGNORE INTO findused_local.categories (category_name, slug, type, depth, parent_id, status, user_id) VALUES (\"{clr}\",\"{ct_slug}\",\"{name}\", {indx_dict[clr]}, null, 0, 1);'''\n",
    "            else:\n",
    "                sql_update_query = f'''INSERT IGNORE INTO findused_local.categories (category_name, slug, type, depth, parent_id, status, user_id) VALUES (\"{clr}\", \"{ct_slug}\",\"{name}\", {indx_dict[clr]},{parent_id}, 0, 1);'''\n",
    "\n",
    "            self.cursor.execute(sql_update_query)\n",
    "            catid_list.append(self.cursor.lastrowid)\n",
    "            cats_dict[clr] = self.cursor.lastrowid\n",
    "        catid_list = \",\".join([str(x) for x in catid_list])\n"
   ]
  },
  {
   "cell_type": "code",
   "execution_count": null,
   "id": "28a7e900",
   "metadata": {},
   "outputs": [],
   "source": [
    "m"
   ]
  }
 ],
 "metadata": {
  "kernelspec": {
   "display_name": "Python 3 (ipykernel)",
   "language": "python",
   "name": "python3"
  },
  "language_info": {
   "codemirror_mode": {
    "name": "ipython",
    "version": 3
   },
   "file_extension": ".py",
   "mimetype": "text/x-python",
   "name": "python",
   "nbconvert_exporter": "python",
   "pygments_lexer": "ipython3",
   "version": "3.9.7"
  }
 },
 "nbformat": 4,
 "nbformat_minor": 5
}
